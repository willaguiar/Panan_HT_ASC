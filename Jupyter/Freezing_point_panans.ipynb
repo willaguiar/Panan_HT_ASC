{
 "cells": [
  {
   "cell_type": "markdown",
   "id": "f38a1035-8e8b-4bc2-9177-bd2fc85e36c4",
   "metadata": {},
   "source": [
    "# Determining Freezing point on Panan"
   ]
  },
  {
   "cell_type": "markdown",
   "id": "3903fc1b-4b2e-4a55-8b28-be07e740ab4f",
   "metadata": {},
   "source": [
    "We need to discount the transport of heat in waters felow 0 and above the freezing point, along the 1000m isobath. Lets find the minimum temperature alinf the 1km isobath and use that for the correction"
   ]
  },
  {
   "cell_type": "code",
   "execution_count": 1,
   "id": "15a89a23-4254-45c8-8ec4-585ed9233d49",
   "metadata": {},
   "outputs": [],
   "source": [
    "import cosima_cookbook as cc\n",
    "from cosima_cookbook import distributed as ccd\n",
    "import matplotlib.pyplot as plt\n",
    "import numpy as np\n",
    "import netCDF4 as nc\n",
    "import xarray as xr\n",
    "import glob,os\n",
    "import cmocean.cm as cmocean\n",
    "\n",
    "import logging\n",
    "logging.captureWarnings(True)\n",
    "logging.getLogger('py.warnings').setLevel(logging.ERROR)\n",
    "\n",
    "from dask.distributed import Client"
   ]
  },
  {
   "cell_type": "markdown",
   "id": "0e35176b-ed77-4753-a756-27fa89fdda48",
   "metadata": {},
   "source": [
    "# Panan-01"
   ]
  },
  {
   "cell_type": "code",
   "execution_count": 2,
   "id": "d60dbd29-d6f1-4f39-87bd-fb9666b3ffcb",
   "metadata": {},
   "outputs": [],
   "source": [
    "session = cc.database.create_session()\n",
    "exp_panan01 = 'panant-01-zstar-ACCESSyr2'\n",
    "\n",
    "Thetao = cc.querying.getvar(exp_panan01,'thetao',session,start_time='2000-01',\n",
    "                              end_time='2001-01',frequency = '1 daily')"
   ]
  },
  {
   "cell_type": "code",
   "execution_count": 4,
   "id": "e7aeafd9-a3a3-4d01-87b3-4b63e7f012dc",
   "metadata": {},
   "outputs": [],
   "source": [
    "CSHT_jan_P01 = xr.open_dataset('/home/156/wf4500/v45_wf4500/Project_panan/GH/Panan_HT_ASC/Processed_data/panan01/CSHT_daily_z/Ant_cross_slope_heat_terms_offline_1000m_2000-01.nc')\n",
    "P01_lon_along_contour=CSHT_jan_P01.lon_along_contour\n",
    "P01_lat_along_contour=CSHT_jan_P01.lat_along_contour"
   ]
  },
  {
   "cell_type": "code",
   "execution_count": 8,
   "id": "b5bb8706-5b34-4d6d-afb3-397eb1304880",
   "metadata": {},
   "outputs": [],
   "source": [
    "P01_theta0 = Thetao.sel(yh=P01_lat_along_contour,xh=P01_lon_along_contour,method='nearest')"
   ]
  },
  {
   "cell_type": "code",
   "execution_count": 20,
   "id": "73d568b9-eef4-47cb-b361-ec94ff2d8ca6",
   "metadata": {},
   "outputs": [
    {
     "name": "stdout",
     "output_type": "stream",
     "text": [
      "Freezing point on Panan01 is = -1.8583057 C\n"
     ]
    }
   ],
   "source": [
    "#P01_Tfreeze = P01_theta0.min().values\n",
    "print('Freezing point on Panan01 is = ' + str(P01_Tfreeze) + ' C')"
   ]
  },
  {
   "cell_type": "markdown",
   "id": "651491a6-7f9c-4757-8c70-c3d2962823d1",
   "metadata": {},
   "source": [
    "# Panan-005"
   ]
  },
  {
   "cell_type": "code",
   "execution_count": 15,
   "id": "41a82f69-9201-4ca7-b7cb-5c38e0327ca7",
   "metadata": {},
   "outputs": [],
   "source": [
    "del Thetao\n",
    "exp_panan005= 'panant-005-zstar-ACCESSyr2'\n",
    "\n",
    "Thetao = cc.querying.getvar(exp_panan005,'thetao',session,start_time='2000-01',\n",
    "                              end_time='2001-01',frequency = '1 daily')"
   ]
  },
  {
   "cell_type": "code",
   "execution_count": 16,
   "id": "9b6ff024-ec75-41d9-b21b-fd95634d3da1",
   "metadata": {},
   "outputs": [],
   "source": [
    "CSHT_jan_P005 = xr.open_dataset('/home/156/wf4500/v45_wf4500/Project_panan/GH/Panan_HT_ASC/Processed_data/panan005/CSHT_daily_z/Ant_cross_slope_heat_terms_offline_1000m_2000-01.nc')\n",
    "P005_lon_along_contour=CSHT_jan_P005.lon_along_contour\n",
    "P005_lat_along_contour=CSHT_jan_P005.lat_along_contour"
   ]
  },
  {
   "cell_type": "code",
   "execution_count": 17,
   "id": "b15a47f4-efae-43bf-ba5e-0c4d929898b2",
   "metadata": {},
   "outputs": [],
   "source": [
    "P005_theta0 = Thetao.sel(yh=P005_lat_along_contour,xh=P005_lon_along_contour,method='nearest')"
   ]
  },
  {
   "cell_type": "code",
   "execution_count": 23,
   "id": "62bebea0-6320-44e5-9045-86a9b14ad27d",
   "metadata": {},
   "outputs": [
    {
     "name": "stdout",
     "output_type": "stream",
     "text": [
      "Freezing point on Panan01 is = -1.8591776 C\n"
     ]
    }
   ],
   "source": [
    "#P005_Tfreeze = P005_theta0.min().values\n",
    "print('Freezing point on Panan01 is = ' + str(P005_Tfreeze) + ' C')"
   ]
  },
  {
   "cell_type": "markdown",
   "id": "ed711fb0-be19-4416-96cd-a9517548ab1a",
   "metadata": {},
   "source": [
    "**Based on the results above, we chose to use 1.8 C as the feezing temperature**"
   ]
  },
  {
   "cell_type": "code",
   "execution_count": null,
   "id": "bb6ba70d-ed99-4ac5-aa2f-805266ed6df3",
   "metadata": {},
   "outputs": [],
   "source": []
  }
 ],
 "metadata": {
  "kernelspec": {
   "display_name": "Python [conda env:analysis3-23.07]",
   "language": "python",
   "name": "conda-env-analysis3-23.07-py"
  },
  "language_info": {
   "codemirror_mode": {
    "name": "ipython",
    "version": 3
   },
   "file_extension": ".py",
   "mimetype": "text/x-python",
   "name": "python",
   "nbconvert_exporter": "python",
   "pygments_lexer": "ipython3",
   "version": "3.10.13"
  }
 },
 "nbformat": 4,
 "nbformat_minor": 5
}
